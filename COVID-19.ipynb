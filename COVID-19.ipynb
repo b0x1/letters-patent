{
 "cells": [
  {
   "cell_type": "code",
   "execution_count": 29,
   "metadata": {},
   "outputs": [],
   "source": [
    "from math import log, exp\n",
    "from datetime import datetime"
   ]
  },
  {
   "cell_type": "code",
   "execution_count": 30,
   "metadata": {},
   "outputs": [],
   "source": [
    "def growth_rate(initial_day: datetime, initial_count: int, \n",
    "                current_day: datetime, current_count: int): \n",
    "    days = current_day - initial_day\n",
    "    days = days.days\n",
    "    return exp(log(current_count/initial_count)/days)"
   ]
  },
  {
   "cell_type": "code",
   "execution_count": 31,
   "metadata": {},
   "outputs": [
    {
     "data": {
      "text/plain": [
       "1.6254058828005375"
      ]
     },
     "execution_count": 31,
     "metadata": {},
     "output_type": "execute_result"
    }
   ],
   "source": [
    "# Iran\n",
    "# https://en.wikipedia.org/wiki/2020_coronavirus_outbreak_in_Iran\n",
    "growth_rate(datetime(2020, 2, 19), 2, datetime(2020, 3, 6), 4747)"
   ]
  },
  {
   "cell_type": "code",
   "execution_count": 32,
   "metadata": {},
   "outputs": [
    {
     "data": {
      "text/plain": [
       "1.247803208618097"
      ]
     },
     "execution_count": 32,
     "metadata": {},
     "output_type": "execute_result"
    }
   ],
   "source": [
    "# Italy\n",
    "# https://en.wikipedia.org/wiki/2020_coronavirus_outbreak_in_Italy\n",
    "growth_rate(datetime(2020, 1, 31), 2, datetime(2020, 3, 6), 4636)"
   ]
  },
  {
   "cell_type": "code",
   "execution_count": 33,
   "metadata": {},
   "outputs": [
    {
     "data": {
      "text/plain": [
       "1.2113495494074793"
      ]
     },
     "execution_count": 33,
     "metadata": {},
     "output_type": "execute_result"
    }
   ],
   "source": [
    "# South Korea\n",
    "# https://en.wikipedia.org/wiki/2020_coronavirus_outbreak_in_South_Korea\n",
    "growth_rate(datetime(2020, 1, 20), 1, datetime(2020, 3, 6), 6767)"
   ]
  },
  {
   "cell_type": "code",
   "execution_count": 34,
   "metadata": {},
   "outputs": [
    {
     "data": {
      "text/plain": [
       "1.1801464910776356"
      ]
     },
     "execution_count": 34,
     "metadata": {},
     "output_type": "execute_result"
    }
   ],
   "source": [
    "# Germany\n",
    "# https://en.wikipedia.org/wiki/2020_coronavirus_outbreak_in_Germany\n",
    "growth_rate(datetime(2020, 1, 27), 1, datetime(2020, 3, 6), 639)"
   ]
  },
  {
   "cell_type": "code",
   "execution_count": 35,
   "metadata": {},
   "outputs": [
    {
     "data": {
      "text/plain": [
       "1.1339776712593235"
      ]
     },
     "execution_count": 35,
     "metadata": {},
     "output_type": "execute_result"
    }
   ],
   "source": [
    "# UK\n",
    "# https://en.wikipedia.org/wiki/2020_coronavirus_outbreak_in_the_United_Kingdom\n",
    "growth_rate(datetime(2020, 1, 31), 2, datetime(2020, 3, 6), 163)"
   ]
  },
  {
   "cell_type": "code",
   "execution_count": 36,
   "metadata": {},
   "outputs": [
    {
     "data": {
      "text/plain": [
       "1.6817748651989708"
      ]
     },
     "execution_count": 36,
     "metadata": {},
     "output_type": "execute_result"
    }
   ],
   "source": [
    "# Switzerland\n",
    "# https://en.wikipedia.org/wiki/2020_coronavirus_outbreak_in_Switzerland#Statistics\n",
    "growth_rate(datetime(2020, 2, 25), 1, datetime(2020, 3, 6), 181)"
   ]
  },
  {
   "cell_type": "code",
   "execution_count": 37,
   "metadata": {},
   "outputs": [
    {
     "data": {
      "text/plain": [
       "1.140283064616562"
      ]
     },
     "execution_count": 37,
     "metadata": {},
     "output_type": "execute_result"
    }
   ],
   "source": [
    "growth_rate(datetime(2020, 3, 7), 100_000, datetime(2020, 6, 1), 8_000_000_000)"
   ]
  },
  {
   "cell_type": "code",
   "execution_count": null,
   "metadata": {},
   "outputs": [],
   "source": []
  }
 ],
 "metadata": {
  "kernelspec": {
   "display_name": "Python 3",
   "language": "python",
   "name": "python3"
  },
  "language_info": {
   "codemirror_mode": {
    "name": "ipython",
    "version": 3
   },
   "file_extension": ".py",
   "mimetype": "text/x-python",
   "name": "python",
   "nbconvert_exporter": "python",
   "pygments_lexer": "ipython3",
   "version": "3.7.5"
  }
 },
 "nbformat": 4,
 "nbformat_minor": 2
}
