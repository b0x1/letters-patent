{
 "cells": [
  {
   "cell_type": "code",
   "execution_count": null,
   "metadata": {},
   "outputs": [],
   "source": [
    "from math import log, exp\n",
    "from datetime import datetime"
   ]
  },
  {
   "cell_type": "code",
   "execution_count": null,
   "metadata": {},
   "outputs": [],
   "source": [
    "def growth_rate(initial_day: datetime, initial_count: int, \n",
    "                current_day: datetime, current_count: int): \n",
    "    days = current_day - initial_day\n",
    "    days = days.days\n",
    "    return exp(log(current_count/initial_count)/days)"
   ]
  },
  {
   "cell_type": "markdown",
   "metadata": {},
   "source": [
    "## Austria"
   ]
  },
  {
   "cell_type": "code",
   "execution_count": 8,
   "metadata": {},
   "outputs": [],
   "source": [
    "# Hospital data (2018)\n",
    "# https://de.statista.com/themen/4978/krankenhaeuser-in-oesterreich/\n",
    "\n",
    "# Number of hospital beds in Austria\n",
    "number_beds = 64_285\n",
    "# Total number of hospital stays by all patients\n",
    "#stays = 2_704_941\n",
    "# Total number of days spent in hospital by all patients\n",
    "stays_days = 18_230_000 # days\n",
    "# Percentage of utilisation\n",
    "utilisation = stays_days / 365 / number_beds\n",
    "# Number of free beds\n",
    "free_beds = number_beds * (1 - utilisation)\n",
    "# Percentag of COVID-19 infected requiring hospitalisation\n",
    "rate_hospitalisation = 0.15\n",
    "# Number of infected before maximum capacity reached\n",
    "max_infected = free_beds / rate_hospitalisation  "
   ]
  },
  {
   "cell_type": "code",
   "execution_count": 9,
   "metadata": {},
   "outputs": [
    {
     "data": {
      "text/plain": [
       "95598.6301369863"
      ]
     },
     "execution_count": 9,
     "metadata": {},
     "output_type": "execute_result"
    }
   ],
   "source": [
    "max_infected"
   ]
  },
  {
   "cell_type": "markdown",
   "metadata": {},
   "source": [
    "## General Statistics"
   ]
  },
  {
   "cell_type": "code",
   "execution_count": null,
   "metadata": {},
   "outputs": [],
   "source": [
    "# Iran\n",
    "# https://en.wikipedia.org/wiki/2020_coronavirus_outbreak_in_Iran\n",
    "growth_rate(datetime(2020, 2, 19), 2, datetime(2020, 3, 6), 4747)"
   ]
  },
  {
   "cell_type": "code",
   "execution_count": null,
   "metadata": {},
   "outputs": [],
   "source": [
    "# Italy\n",
    "# https://en.wikipedia.org/wiki/2020_coronavirus_outbreak_in_Italy\n",
    "growth_rate(datetime(2020, 1, 31), 2, datetime(2020, 3, 6), 4636)"
   ]
  },
  {
   "cell_type": "code",
   "execution_count": null,
   "metadata": {},
   "outputs": [],
   "source": [
    "# South Korea\n",
    "# https://en.wikipedia.org/wiki/2020_coronavirus_outbreak_in_South_Korea\n",
    "growth_rate(datetime(2020, 1, 20), 1, datetime(2020, 3, 6), 6767)"
   ]
  },
  {
   "cell_type": "code",
   "execution_count": null,
   "metadata": {},
   "outputs": [],
   "source": [
    "# Germany\n",
    "# https://en.wikipedia.org/wiki/2020_coronavirus_outbreak_in_Germany\n",
    "growth_rate(datetime(2020, 1, 27), 1, datetime(2020, 3, 6), 639)"
   ]
  },
  {
   "cell_type": "code",
   "execution_count": null,
   "metadata": {},
   "outputs": [],
   "source": [
    "# UK\n",
    "# https://en.wikipedia.org/wiki/2020_coronavirus_outbreak_in_the_United_Kingdom\n",
    "growth_rate(datetime(2020, 1, 31), 2, datetime(2020, 3, 6), 163)"
   ]
  },
  {
   "cell_type": "code",
   "execution_count": null,
   "metadata": {},
   "outputs": [],
   "source": [
    "# Switzerland\n",
    "# https://en.wikipedia.org/wiki/2020_coronavirus_outbreak_in_Switzerland#Statistics\n",
    "growth_rate(datetime(2020, 2, 25), 1, datetime(2020, 3, 6), 181)"
   ]
  },
  {
   "cell_type": "code",
   "execution_count": null,
   "metadata": {},
   "outputs": [],
   "source": [
    "growth_rate(datetime(2020, 3, 7), 100_000, datetime(2020, 6, 1), 8_000_000_000)"
   ]
  }
 ],
 "metadata": {
  "kernelspec": {
   "display_name": "Python 3",
   "language": "python",
   "name": "python3"
  },
  "language_info": {
   "codemirror_mode": {
    "name": "ipython",
    "version": 3
   },
   "file_extension": ".py",
   "mimetype": "text/x-python",
   "name": "python",
   "nbconvert_exporter": "python",
   "pygments_lexer": "ipython3",
   "version": "3.7.3"
  }
 },
 "nbformat": 4,
 "nbformat_minor": 2
}
